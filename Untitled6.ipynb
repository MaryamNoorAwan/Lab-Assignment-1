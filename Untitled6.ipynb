{
 "cells": [
  {
   "cell_type": "markdown",
   "id": "bbd6443a",
   "metadata": {},
   "source": [
    "# Question 1\n",
    "## LIST ITERATION\n",
    " \n",
    " # A \n",
    "   ## LIST OF MOVIES"
   ]
  },
  {
   "cell_type": "code",
   "execution_count": 46,
   "id": "6cfaca27",
   "metadata": {},
   "outputs": [
    {
     "name": "stdout",
     "output_type": "stream",
     "text": [
      "['Suits', 'Badla', 'The Office']\n"
     ]
    }
   ],
   "source": [
    "movies=['Suits','Badla','The Office']\n",
    "print(movies)"
   ]
  },
  {
   "cell_type": "markdown",
   "id": "dfdc2a6d",
   "metadata": {},
   "source": [
    "# B\n",
    "## ITERATE  OVER THE LIST"
   ]
  },
  {
   "cell_type": "code",
   "execution_count": 47,
   "id": "0720c968",
   "metadata": {},
   "outputs": [
    {
     "name": "stdout",
     "output_type": "stream",
     "text": [
      "Suits\n",
      "Badla\n",
      "The Office\n"
     ]
    }
   ],
   "source": [
    "for movie in movies:\n",
    "    print(movie)"
   ]
  },
  {
   "cell_type": "markdown",
   "id": "7dca3138",
   "metadata": {},
   "source": [
    "# C\n",
    "## MODIFY THE LOOP"
   ]
  },
  {
   "cell_type": "code",
   "execution_count": 48,
   "id": "992b86e5",
   "metadata": {},
   "outputs": [
    {
     "name": "stdout",
     "output_type": "stream",
     "text": [
      "0: Suits\n",
      "1: Badla\n",
      "2: The Office\n"
     ]
    }
   ],
   "source": [
    "for i in range(len(movies)):\n",
    "    print(f\"{i}: {movies[i]}\")"
   ]
  },
  {
   "cell_type": "markdown",
   "id": "870fdd79",
   "metadata": {},
   "source": [
    "# Question 2\n",
    "## STRING ITERATION"
   ]
  },
  {
   "cell_type": "markdown",
   "id": "97fad12d",
   "metadata": {},
   "source": [
    "# A\n",
    "## STRING VARIABLE"
   ]
  },
  {
   "cell_type": "code",
   "execution_count": 39,
   "id": "2e91ee6a",
   "metadata": {},
   "outputs": [
    {
     "name": "stdout",
     "output_type": "stream",
     "text": [
      "Maryam Noor\n"
     ]
    }
   ],
   "source": [
    "full_name='Maryam Noor'\n",
    "print(full_name)"
   ]
  },
  {
   "cell_type": "markdown",
   "id": "fcb60012",
   "metadata": {},
   "source": [
    "# B\n",
    "## ITERATE OVER THE STRING"
   ]
  },
  {
   "cell_type": "code",
   "execution_count": 40,
   "id": "e9381dda",
   "metadata": {},
   "outputs": [
    {
     "name": "stdout",
     "output_type": "stream",
     "text": [
      "M\n",
      "a\n",
      "r\n",
      "y\n",
      "a\n",
      "m\n",
      " \n",
      "N\n",
      "o\n",
      "o\n",
      "r\n"
     ]
    }
   ],
   "source": [
    "for char in full_name:\n",
    "    print(char)"
   ]
  },
  {
   "cell_type": "markdown",
   "id": "97ca7db3",
   "metadata": {},
   "source": [
    "# C\n",
    "## COUNT THE VOWELS"
   ]
  },
  {
   "cell_type": "code",
   "execution_count": 45,
   "id": "cc33e030",
   "metadata": {},
   "outputs": [
    {
     "name": "stdout",
     "output_type": "stream",
     "text": [
      "4\n"
     ]
    }
   ],
   "source": [
    "name = 'Maryam Noor'\n",
    "vowels = 'aeiouAEIOU'\n",
    "vowel_count = sum(1 for char in name if char in vowels)\n",
    "print(vowel_count)"
   ]
  }
 ],
 "metadata": {
  "kernelspec": {
   "display_name": "Python 3 (ipykernel)",
   "language": "python",
   "name": "python3"
  },
  "language_info": {
   "codemirror_mode": {
    "name": "ipython",
    "version": 3
   },
   "file_extension": ".py",
   "mimetype": "text/x-python",
   "name": "python",
   "nbconvert_exporter": "python",
   "pygments_lexer": "ipython3",
   "version": "3.11.5"
  }
 },
 "nbformat": 4,
 "nbformat_minor": 5
}
